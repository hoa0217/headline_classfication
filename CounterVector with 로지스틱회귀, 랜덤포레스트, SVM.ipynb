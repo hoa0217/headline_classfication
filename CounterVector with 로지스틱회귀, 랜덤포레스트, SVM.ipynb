{
 "cells": [
  {
   "cell_type": "code",
   "execution_count": 12,
   "metadata": {},
   "outputs": [],
   "source": [
    "import pandas as pd\n",
    "import numpy as np\n",
    "import os\n",
    "from sklearn.feature_extraction.text import CountVectorizer\n",
    "from sklearn.metrics import classification_report,confusion_matrix,accuracy_score"
   ]
  },
  {
   "cell_type": "code",
   "execution_count": 2,
   "metadata": {},
   "outputs": [],
   "source": [
    "train_data = pd.read_csv( 'data_clean.csv' )\n",
    "train_data = train_data[train_data['text'].notnull()]"
   ]
  },
  {
   "cell_type": "code",
   "execution_count": 3,
   "metadata": {},
   "outputs": [],
   "source": [
    "text = list(train_data['text'])\n",
    "y = list(train_data['sentiment'])"
   ]
  },
  {
   "cell_type": "markdown",
   "metadata": {},
   "source": [
    "# CountVectorizer를 활용한 벡터화"
   ]
  },
  {
   "cell_type": "code",
   "execution_count": 4,
   "metadata": {},
   "outputs": [],
   "source": [
    "vectorizer = CountVectorizer(analyzer = \"word\", max_features = 1000) \n",
    "\n",
    "train_data_features = vectorizer.fit_transform(text)"
   ]
  },
  {
   "cell_type": "code",
   "execution_count": 18,
   "metadata": {},
   "outputs": [
    {
     "data": {
      "text/plain": [
       "(4845, 1000)"
      ]
     },
     "execution_count": 18,
     "metadata": {},
     "output_type": "execute_result"
    }
   ],
   "source": [
    "train_data_features.shape"
   ]
  },
  {
   "cell_type": "code",
   "execution_count": 5,
   "metadata": {},
   "outputs": [],
   "source": [
    "from sklearn.model_selection import train_test_split\n",
    "\n",
    "TEST_SIZE = 0.2\n",
    "RANDOM_SEED = 42\n",
    "\n",
    "train_input, eval_input, train_label, eval_label = train_test_split(train_data_features, y, test_size=TEST_SIZE, random_state=RANDOM_SEED)"
   ]
  },
  {
   "cell_type": "code",
   "execution_count": 17,
   "metadata": {
    "scrolled": true
   },
   "outputs": [
    {
     "name": "stdout",
     "output_type": "stream",
     "text": [
      "Accuracy: 0.730650\n",
      "              precision    recall  f1-score   support\n",
      "\n",
      "    negative       0.63      0.42      0.51       113\n",
      "     neutral       0.75      0.89      0.82       567\n",
      "    positive       0.69      0.54      0.61       289\n",
      "\n",
      "    accuracy                           0.73       969\n",
      "   macro avg       0.69      0.62      0.64       969\n",
      "weighted avg       0.72      0.73      0.72       969\n",
      "\n"
     ]
    }
   ],
   "source": [
    "from sklearn.ensemble import RandomForestClassifier\n",
    "\n",
    "forest = RandomForestClassifier(n_estimators = 1000) \n",
    "\n",
    "forest.fit( train_input, train_label )\n",
    "y_pred = forest.predict(eval_input)\n",
    "print(\"Accuracy: %f\" % forest.score(eval_input, eval_label))\n",
    "print(classification_report(eval_label,y_pred))"
   ]
  },
  {
   "cell_type": "markdown",
   "metadata": {},
   "source": [
    "# 로지스틱회귀"
   ]
  },
  {
   "cell_type": "code",
   "execution_count": 8,
   "metadata": {},
   "outputs": [],
   "source": [
    "from sklearn.linear_model import LogisticRegression"
   ]
  },
  {
   "cell_type": "code",
   "execution_count": 13,
   "metadata": {},
   "outputs": [
    {
     "name": "stdout",
     "output_type": "stream",
     "text": [
      "Accuracy: 0.710010\n",
      "              precision    recall  f1-score   support\n",
      "\n",
      "    negative       0.49      0.62      0.55       113\n",
      "     neutral       0.81      0.77      0.78       567\n",
      "    positive       0.64      0.64      0.64       289\n",
      "\n",
      "    accuracy                           0.71       969\n",
      "   macro avg       0.65      0.67      0.66       969\n",
      "weighted avg       0.72      0.71      0.71       969\n",
      "\n"
     ]
    },
    {
     "name": "stderr",
     "output_type": "stream",
     "text": [
      "c:\\users\\wjdwn\\anaconda3\\envs\\tensorflow\\lib\\site-packages\\sklearn\\linear_model\\_logistic.py:764: ConvergenceWarning: lbfgs failed to converge (status=1):\n",
      "STOP: TOTAL NO. of ITERATIONS REACHED LIMIT.\n",
      "\n",
      "Increase the number of iterations (max_iter) or scale the data as shown in:\n",
      "    https://scikit-learn.org/stable/modules/preprocessing.html\n",
      "Please also refer to the documentation for alternative solver options:\n",
      "    https://scikit-learn.org/stable/modules/linear_model.html#logistic-regression\n",
      "  extra_warning_msg=_LOGISTIC_SOLVER_CONVERGENCE_MSG)\n"
     ]
    }
   ],
   "source": [
    "lgs = LogisticRegression(class_weight='balanced') \n",
    "lgs.fit(train_input, train_label)\n",
    "y_pred = lgs.predict(eval_input)\n",
    "print(\"Accuracy: %f\" % lgs.score(eval_input, eval_label))\n",
    "print(classification_report(eval_label,y_pred))"
   ]
  },
  {
   "cell_type": "code",
   "execution_count": 14,
   "metadata": {},
   "outputs": [
    {
     "name": "stdout",
     "output_type": "stream",
     "text": [
      "Accuracy: 0.746130\n",
      "              precision    recall  f1-score   support\n",
      "\n",
      "    negative       0.73      0.46      0.57       113\n",
      "     neutral       0.76      0.89      0.82       567\n",
      "    positive       0.71      0.58      0.64       289\n",
      "\n",
      "    accuracy                           0.75       969\n",
      "   macro avg       0.73      0.64      0.67       969\n",
      "weighted avg       0.74      0.75      0.74       969\n",
      "\n"
     ]
    }
   ],
   "source": [
    "lgs = LogisticRegression(solver = 'newton-cg', multi_class = 'multinomial') \n",
    "lgs.fit(train_input, train_label)\n",
    "y_pred = lgs.predict(eval_input)\n",
    "print(\"Accuracy: %f\" % lgs.score(eval_input, eval_label))\n",
    "print(classification_report(eval_label,y_pred))"
   ]
  },
  {
   "cell_type": "code",
   "execution_count": 16,
   "metadata": {},
   "outputs": [
    {
     "name": "stdout",
     "output_type": "stream",
     "text": [
      "Accuracy: 0.706914\n",
      "              precision    recall  f1-score   support\n",
      "\n",
      "    negative       0.53      0.46      0.49       113\n",
      "     neutral       0.75      0.84      0.79       567\n",
      "    positive       0.66      0.55      0.60       289\n",
      "\n",
      "    accuracy                           0.71       969\n",
      "   macro avg       0.65      0.62      0.63       969\n",
      "weighted avg       0.70      0.71      0.70       969\n",
      "\n"
     ]
    }
   ],
   "source": [
    "from sklearn.svm import SVC\n",
    "classifier = SVC(kernel = 'linear')\n",
    "classifier.fit(train_input, train_label)\n",
    "y_pred = classifier.predict(eval_input)\n",
    "print(\"Accuracy: %f\" % classifier.score(eval_input, eval_label))\n",
    "print(classification_report(eval_label,y_pred))"
   ]
  }
 ],
 "metadata": {
  "kernelspec": {
   "display_name": "Python 3",
   "language": "python",
   "name": "python3"
  },
  "language_info": {
   "codemirror_mode": {
    "name": "ipython",
    "version": 3
   },
   "file_extension": ".py",
   "mimetype": "text/x-python",
   "name": "python",
   "nbconvert_exporter": "python",
   "pygments_lexer": "ipython3",
   "version": "3.7.9"
  }
 },
 "nbformat": 4,
 "nbformat_minor": 4
}
